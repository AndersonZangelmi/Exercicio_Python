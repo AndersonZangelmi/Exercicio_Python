{
  "nbformat": 4,
  "nbformat_minor": 0,
  "metadata": {
    "colab": {
      "name": "Untitled1.ipynb",
      "provenance": [],
      "authorship_tag": "ABX9TyMEr/GofbcQuGDt9IDWl/zQ",
      "include_colab_link": true
    },
    "kernelspec": {
      "name": "python3",
      "display_name": "Python 3"
    }
  },
  "cells": [
    {
      "cell_type": "markdown",
      "metadata": {
        "id": "view-in-github",
        "colab_type": "text"
      },
      "source": [
        "<a href=\"https://colab.research.google.com/github/AndersonZangelmi/Exercicio_Python/blob/master/BD_API_GOV.ipynb\" target=\"_parent\"><img src=\"https://colab.research.google.com/assets/colab-badge.svg\" alt=\"Open In Colab\"/></a>"
      ]
    },
    {
      "cell_type": "code",
      "metadata": {
        "id": "BTYDk7KWBe2g"
      },
      "source": [
        "# Run below commands in google colab\n",
        "# install Java8\n",
        "!apt-get install openjdk-8-jdk-headless -qq > /dev/null\n",
        "# download spark3.0.0\n",
        "!wget -q http://apache.osuosl.org/spark/spark-3.0.1/spark-3.0.1-bin-hadoop3.2.tgz\n",
        "# unzip it\n",
        "!tar xf spark-3.0.1-bin-hadoop3.2.tgz\n",
        "# install findspark\n",
        "!pip install -q findspark"
      ],
      "execution_count": 1,
      "outputs": []
    },
    {
      "cell_type": "code",
      "metadata": {
        "id": "8IshbpN0CBke"
      },
      "source": [
        "import os\n",
        "os.environ[\"JAVA_HOME\"] = \"/usr/lib/jvm/java-8-openjdk-amd64\"\n",
        "os.environ[\"SPARK_HOME\"] = \"/content/spark-3.0.1-bin-hadoop3.2\""
      ],
      "execution_count": 3,
      "outputs": []
    },
    {
      "cell_type": "code",
      "metadata": {
        "id": "hI_8tu6BCSrN"
      },
      "source": [
        "import findspark\n",
        "findspark.init()\n",
        "from pyspark.sql import SparkSession\n",
        "spark = SparkSession.builder.master(\"local[*]\").getOrCreate()"
      ],
      "execution_count": 4,
      "outputs": []
    },
    {
      "cell_type": "code",
      "metadata": {
        "id": "i0uW89qICbNE",
        "outputId": "6e755487-112c-4c24-e5a7-b82ee63dc14c",
        "colab": {
          "base_uri": "https://localhost:8080/",
          "height": 34
        }
      },
      "source": [
        "import pyspark\n",
        "print(pyspark.__version__)"
      ],
      "execution_count": 5,
      "outputs": [
        {
          "output_type": "stream",
          "text": [
            "3.0.1\n"
          ],
          "name": "stdout"
        }
      ]
    },
    {
      "cell_type": "code",
      "metadata": {
        "id": "jtAieXavCflC",
        "outputId": "ea507580-e2f4-4883-e273-f78576840bb5",
        "colab": {
          "base_uri": "https://localhost:8080/",
          "height": 67
        }
      },
      "source": [
        "!curl -X GET --header 'Accept: application/json' --header 'chave-api-dados: ff9c269c9bf8969335b8bfc15580e4d9' 'http://www.portaltransparencia.gov.br/api-de-dados/cartoes?mesExtratoInicio=01%2F2020&mesExtratoFim=07%2F2020&pagina=1' > consulta_portal_transparencia.json"
      ],
      "execution_count": 20,
      "outputs": [
        {
          "output_type": "stream",
          "text": [
            "  % Total    % Received % Xferd  Average Speed   Time    Time     Time  Current\n",
            "                                 Dload  Upload   Total   Spent    Left  Speed\n",
            "100 26676    0 26676    0     0   7044      0 --:--:--  0:00:03 --:--:--  7042\n"
          ],
          "name": "stdout"
        }
      ]
    },
    {
      "cell_type": "code",
      "metadata": {
        "id": "AXploW7ZCs-X"
      },
      "source": [
        "#Instancia o contexto do Spark\n",
        "sc = spark.sparkContext\n",
        "#Realiza a leitura da nossa consulta realizada na API do Governo Federal sobre as Viagens\n",
        "path = \"/content/consulta_portal_transparencia.json\"\n",
        "#Declara dataframe df com o conteudo da api que estava no JSON\n",
        "df = spark.read.json(path)"
      ],
      "execution_count": 21,
      "outputs": []
    },
    {
      "cell_type": "code",
      "metadata": {
        "id": "12cPt2MtC0yw",
        "outputId": "dc9b001f-9549-4302-bd62-823572cda43e",
        "colab": {
          "base_uri": "https://localhost:8080/",
          "height": 1000
        }
      },
      "source": [
        "#Imprime a estrutura de dados do nosso dataframe\n",
        "df.printSchema()\n",
        "#Imprime uma amosta de dados ( para especificar as linhas basta colocar a quantidade entre ())\n",
        "df.show()"
      ],
      "execution_count": 22,
      "outputs": [
        {
          "output_type": "stream",
          "text": [
            "root\n",
            " |-- dataTransacao: string (nullable = true)\n",
            " |-- estabelecimento: struct (nullable = true)\n",
            " |    |-- cnae: struct (nullable = true)\n",
            " |    |    |-- classe: string (nullable = true)\n",
            " |    |    |-- codigoClasse: string (nullable = true)\n",
            " |    |    |-- codigoDivisao: string (nullable = true)\n",
            " |    |    |-- codigoGrupo: string (nullable = true)\n",
            " |    |    |-- codigoSecao: string (nullable = true)\n",
            " |    |    |-- codigoSubclasse: string (nullable = true)\n",
            " |    |    |-- divisao: string (nullable = true)\n",
            " |    |    |-- grupo: string (nullable = true)\n",
            " |    |    |-- secao: string (nullable = true)\n",
            " |    |    |-- subclasse: string (nullable = true)\n",
            " |    |-- codigoFormatado: string (nullable = true)\n",
            " |    |-- complementoEndereco: string (nullable = true)\n",
            " |    |-- dataAbertura: string (nullable = true)\n",
            " |    |-- descricaoLogradouro: string (nullable = true)\n",
            " |    |-- enderecoEletronico: string (nullable = true)\n",
            " |    |-- localidadePessoa: string (nullable = true)\n",
            " |    |-- municipio: struct (nullable = true)\n",
            " |    |    |-- codigoIBGE: string (nullable = true)\n",
            " |    |    |-- nomeIBGE: string (nullable = true)\n",
            " |    |    |-- pais: string (nullable = true)\n",
            " |    |    |-- uf: struct (nullable = true)\n",
            " |    |    |    |-- nome: string (nullable = true)\n",
            " |    |    |    |-- sigla: string (nullable = true)\n",
            " |    |-- naturezaJuridica: struct (nullable = true)\n",
            " |    |    |-- codigo: string (nullable = true)\n",
            " |    |    |-- codigoTipo: string (nullable = true)\n",
            " |    |    |-- descricao: string (nullable = true)\n",
            " |    |    |-- descricaoTipo: string (nullable = true)\n",
            " |    |-- nome: string (nullable = true)\n",
            " |    |-- nomeBairro: string (nullable = true)\n",
            " |    |-- nomeFantasiaReceita: string (nullable = true)\n",
            " |    |-- numeroCEP: string (nullable = true)\n",
            " |    |-- numeroEndereco: string (nullable = true)\n",
            " |    |-- numeroInscricaoSocial: string (nullable = true)\n",
            " |    |-- numeroTelefone: string (nullable = true)\n",
            " |    |-- razaoSocialReceita: string (nullable = true)\n",
            " |    |-- tipoCodigo: string (nullable = true)\n",
            " |    |-- tipoPessoa: string (nullable = true)\n",
            " |-- id: long (nullable = true)\n",
            " |-- mesExtrato: string (nullable = true)\n",
            " |-- portador: struct (nullable = true)\n",
            " |    |-- codigoFormatado: string (nullable = true)\n",
            " |    |-- nome: string (nullable = true)\n",
            " |-- tipoCartao: struct (nullable = true)\n",
            " |    |-- codigo: string (nullable = true)\n",
            " |    |-- descricao: string (nullable = true)\n",
            " |    |-- id: long (nullable = true)\n",
            " |-- unidadeGestora: struct (nullable = true)\n",
            " |    |-- codigo: string (nullable = true)\n",
            " |    |-- nome: string (nullable = true)\n",
            " |    |-- orgaoVinculado: struct (nullable = true)\n",
            " |    |    |-- cnpj: string (nullable = true)\n",
            " |    |    |-- codigoSIAFI: string (nullable = true)\n",
            " |    |    |-- descricaoPoder: string (nullable = true)\n",
            " |    |    |-- nome: string (nullable = true)\n",
            " |    |    |-- orgaoMaximo: struct (nullable = true)\n",
            " |    |    |    |-- codigo: string (nullable = true)\n",
            " |    |    |    |-- nome: string (nullable = true)\n",
            " |    |    |    |-- sigla: string (nullable = true)\n",
            " |    |    |-- sigla: string (nullable = true)\n",
            " |-- valorTransacao: string (nullable = true)\n",
            "\n",
            "+-------------+--------------------+---------+----------+--------------------+--------------------+--------------------+--------------+\n",
            "|dataTransacao|     estabelecimento|       id|mesExtrato|            portador|          tipoCartao|      unidadeGestora|valorTransacao|\n",
            "+-------------+--------------------+---------+----------+--------------------+--------------------+--------------------+--------------+\n",
            "|   12/05/2020|[[Comércio atacad...|188126017|   06/2020|[***.610.584-**, ...|[1, Cartão de Pag...|[380942, SUPERINT...|        799,23|\n",
            "|   04/12/2019|[[Comércio vareji...|188126018|   01/2020|[***.816.802-**, ...|[1, Cartão de Pag...|[373037, SUPERINT...|        156,00|\n",
            "|   14/02/2020|[[Comércio vareji...|188126019|   03/2020|[***.388.957-**, ...|[1, Cartão de Pag...|[168008, INDUSTRI...|         89,59|\n",
            "|   10/03/2020|[[Comércio vareji...|188126020|   04/2020|[***.028.564-**, ...|[1, Cartão de Pag...|[393021, SUPERINT...|         21,47|\n",
            "|   05/03/2020|[[Sem informação,...|188126021|   04/2020|[***.279.606-**, ...|[1, Cartão de Pag...|[114618, UNIDADE ...|        240,00|\n",
            "|   27/01/2020|[[Comércio vareji...|188126022|   02/2020|[***.318.568-**, ...|[1, Cartão de Pag...|[114622, UNIDADE ...|        137,97|\n",
            "|   15/01/2020|[[Sem informação,...|188126023|   02/2020|[***.270.063-**, ...|[1, Cartão de Pag...|[114608, UNIDADE ...|        350,00|\n",
            "|   13/05/2020|[[Sem informação,...|188126024|   06/2020|[***.179.617-**, ...|[1, Cartão de Pag...|[160213, 5 BATALH...|        280,00|\n",
            "|   22/05/2020|[[Comércio vareji...|188126025|   06/2020|[***.527.255-**, ...|[1, Cartão de Pag...|[323105, GERENCIA...|        183,90|\n",
            "|   22/05/2020|[[Comércio vareji...|188126026|   06/2020|[***.527.255-**, ...|[1, Cartão de Pag...|[323105, GERENCIA...|        159,85|\n",
            "|   22/05/2020|[[Comércio vareji...|188126027|   06/2020|[***.527.255-**, ...|[1, Cartão de Pag...|[323105, GERENCIA...|         98,87|\n",
            "|   09/03/2020|[[Sem informação,...|188126028|   04/2020|[***.124.403-**, ...|[1, Cartão de Pag...|[170035, DELEGACI...|         16,00|\n",
            "|   17/02/2020|[[Comércio vareji...|188126029|   03/2020|[***.226.196-**, ...|[1, Cartão de Pag...|[155678, INST.FED...|        102,60|\n",
            "|   12/05/2020|[[Comércio vareji...|188126030|   06/2020|[***.944.902-**, ...|[1, Cartão de Pag...|[130083, SUPERINT...|        155,34|\n",
            "|   15/05/2020|[[Sem informação,...|188126031|   06/2020|[***.831.895-**, ...|[1, Cartão de Pag...|[114617, UNIDADE ...|        100,00|\n",
            "+-------------+--------------------+---------+----------+--------------------+--------------------+--------------------+--------------+\n",
            "\n"
          ],
          "name": "stdout"
        }
      ]
    },
    {
      "cell_type": "code",
      "metadata": {
        "id": "csc69N37C74C",
        "outputId": "90d2c0d2-e927-41f8-de67-0649f231db40",
        "colab": {
          "base_uri": "https://localhost:8080/",
          "height": 118
        }
      },
      "source": [
        "dfPrepared = df.selectExpr(\"dataTransacao\",\"estabelecimento.razaoSocialReceita\",\"estabelecimento.nome\",\"estabelecimento.municipio.uf.sigla\",\"portador.nome as nome_do_portador\",\"tipoCartao.descricao\",\"valorTransacao\")\n",
        "dfPrepared.show()"
      ],
      "execution_count": 17,
      "outputs": [
        {
          "output_type": "stream",
          "text": [
            "+-------------+------------------+----+-----+----------------+---------+--------------+\n",
            "|dataTransacao|razaoSocialReceita|nome|sigla|nome_do_portador|descricao|valorTransacao|\n",
            "+-------------+------------------+----+-----+----------------+---------+--------------+\n",
            "|         null|              null|null| null|            null|     null|          null|\n",
            "+-------------+------------------+----+-----+----------------+---------+--------------+\n",
            "\n"
          ],
          "name": "stdout"
        }
      ]
    },
    {
      "cell_type": "code",
      "metadata": {
        "id": "p6hgngHADLWv"
      },
      "source": [
        "#Declara tabela temporaria no SparkSQL\n",
        "dfPrepared.createOrReplaceTempView(\"dfPrepared\")"
      ],
      "execution_count": 18,
      "outputs": []
    },
    {
      "cell_type": "code",
      "metadata": {
        "id": "J4sVTbViDURV",
        "outputId": "3489162a-e9cc-4c0d-f970-e19d65446a3e",
        "colab": {
          "base_uri": "https://localhost:8080/",
          "height": 118
        }
      },
      "source": [
        "topTravels = spark.sql(\"select count(*),nome_do_portador as politico from dfPrepared group by 2 order by 1 desc\")\n",
        "topTravels.show()"
      ],
      "execution_count": 19,
      "outputs": [
        {
          "output_type": "stream",
          "text": [
            "+--------+--------+\n",
            "|count(1)|politico|\n",
            "+--------+--------+\n",
            "|       1|    null|\n",
            "+--------+--------+\n",
            "\n"
          ],
          "name": "stdout"
        }
      ]
    }
  ]
}