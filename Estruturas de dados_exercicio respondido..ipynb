{
 "cells": [
  {
   "cell_type": "markdown",
   "metadata": {},
   "source": [
    "<center><h2>Basico de Python (Estrutura de dados)\n",
    "</center>"
   ]
  },
  {
   "cell_type": "markdown",
   "metadata": {},
   "source": [
    "<b>1. Tuplas ou Lista: </b>\n",
    "Uma Tupla é uma sequencia ordenada de zero ou mais referencias de objeto. Assim como as strings, as tuplas também são imutáveis."
   ]
  },
  {
   "cell_type": "code",
   "execution_count": 76,
   "metadata": {},
   "outputs": [],
   "source": [
    "#Exemplo 1.1\n",
    "planeta = \"marte\", \"venus\", \"terra\""
   ]
  },
  {
   "cell_type": "code",
   "execution_count": 77,
   "metadata": {},
   "outputs": [
    {
     "data": {
      "text/plain": [
       "('marte', 'venus', 'terra')"
      ]
     },
     "execution_count": 77,
     "metadata": {},
     "output_type": "execute_result"
    }
   ],
   "source": [
    "planeta"
   ]
  },
  {
   "cell_type": "markdown",
   "metadata": {},
   "source": [
    "caso queira mudar algo na tupla, converta ela em uma lista"
   ]
  },
  {
   "cell_type": "code",
   "execution_count": 78,
   "metadata": {},
   "outputs": [],
   "source": [
    "#exemplo 1.2\n",
    "planetas = list(planeta)"
   ]
  },
  {
   "cell_type": "code",
   "execution_count": 79,
   "metadata": {},
   "outputs": [
    {
     "data": {
      "text/plain": [
       "list"
      ]
     },
     "execution_count": 79,
     "metadata": {},
     "output_type": "execute_result"
    }
   ],
   "source": [
    "type(planetas)"
   ]
  },
  {
   "cell_type": "markdown",
   "metadata": {},
   "source": [
    "1.1 alguns metodos uteis para se usar com listas."
   ]
  },
  {
   "cell_type": "code",
   "execution_count": 80,
   "metadata": {},
   "outputs": [],
   "source": [
    "# exemplo 1.1.1 append(x) - Anexa o item x no final da lista\n",
    "planetas.append(\"plutao\")"
   ]
  },
  {
   "cell_type": "code",
   "execution_count": 81,
   "metadata": {},
   "outputs": [
    {
     "data": {
      "text/plain": [
       "['marte', 'venus', 'terra', 'plutao']"
      ]
     },
     "execution_count": 81,
     "metadata": {},
     "output_type": "execute_result"
    }
   ],
   "source": [
    "planetas"
   ]
  },
  {
   "cell_type": "code",
   "execution_count": 82,
   "metadata": {},
   "outputs": [
    {
     "data": {
      "text/plain": [
       "2"
      ]
     },
     "execution_count": 82,
     "metadata": {},
     "output_type": "execute_result"
    }
   ],
   "source": [
    "# exemplo 1.1.2 count(x) - retorna o número de vezes que o item x ocorreu na lista\n",
    "planetas.append(\"terra\")\n",
    "planetas.count(\"terra\")"
   ]
  },
  {
   "cell_type": "code",
   "execution_count": 83,
   "metadata": {},
   "outputs": [],
   "source": [
    "# exemplo 1.1.3 insert(i,x) - insere o item x dentro da lista na posição de índice int i\n",
    "planetas.insert(0, \"planeta do goku\")"
   ]
  },
  {
   "cell_type": "code",
   "execution_count": 84,
   "metadata": {},
   "outputs": [
    {
     "data": {
      "text/plain": [
       "['planeta do goku', 'marte', 'venus', 'terra', 'plutao', 'terra']"
      ]
     },
     "execution_count": 84,
     "metadata": {},
     "output_type": "execute_result"
    }
   ],
   "source": [
    "planetas"
   ]
  },
  {
   "cell_type": "code",
   "execution_count": 85,
   "metadata": {},
   "outputs": [],
   "source": [
    "#exemplo 1.1.4 remove(x) remove a primeira ocorrencia a partir da esquerda do item x da lista, \n",
    "#ou lança exceção valueerror se x não for encontrado.\n",
    "planetas.remove(\"plutao\")"
   ]
  },
  {
   "cell_type": "code",
   "execution_count": 86,
   "metadata": {},
   "outputs": [
    {
     "data": {
      "text/plain": [
       "['planeta do goku', 'marte', 'venus', 'terra', 'terra']"
      ]
     },
     "execution_count": 86,
     "metadata": {},
     "output_type": "execute_result"
    }
   ],
   "source": [
    "planetas"
   ]
  },
  {
   "cell_type": "code",
   "execution_count": 87,
   "metadata": {},
   "outputs": [],
   "source": [
    "planetas.remove(\"venus\")"
   ]
  },
  {
   "cell_type": "code",
   "execution_count": 88,
   "metadata": {},
   "outputs": [],
   "source": [
    "#exemplo 1.1.5 sort() classifica lista alterando\n",
    "planetas.sort()"
   ]
  },
  {
   "cell_type": "code",
   "execution_count": 89,
   "metadata": {},
   "outputs": [
    {
     "data": {
      "text/plain": [
       "['marte', 'planeta do goku', 'terra', 'terra']"
      ]
     },
     "execution_count": 89,
     "metadata": {},
     "output_type": "execute_result"
    }
   ],
   "source": [
    "planetas"
   ]
  },
  {
   "cell_type": "markdown",
   "metadata": {},
   "source": [
    "Observação: se faz muito interessante entender, em python a metodos e atributos, quando se usa () é metodo, se nao tiver é um atributo."
   ]
  },
  {
   "cell_type": "code",
   "execution_count": 51,
   "metadata": {},
   "outputs": [
    {
     "data": {
      "text/plain": [
       "3"
      ]
     },
     "execution_count": 51,
     "metadata": {},
     "output_type": "execute_result"
    }
   ],
   "source": [
    "#exemplo 1.1.6 len(x) o metodo len será muito usado, serve para sabemos o tamanho da lista que estamos trabalhando.\n",
    "len(planetas)"
   ]
  },
  {
   "cell_type": "markdown",
   "metadata": {},
   "source": [
    "<b>Exercicio 1.</b> Hummm interessante, agora que vimos nossa primeira estrutura de dados, vamos fazer um exercicio bem legal.\n",
    "Voce tem uma tupla chamada feira.\n",
    "A feira contém: banana, pera, batata, uva, cebola, alho e açucar.\n",
    "\n",
    "Teu chefe te mandou a feira, e pediu para voce contrar esses produtos, um deles não da para comprar lá remova ele da lista. No caminho ele te ligou mandou voce também comprar maça e cenoura.\n",
    "\n",
    "Ele é mega chato, e mandou voce separar em duas sacolas, o que é fruta e o que é legume e entregar tudo ordenado.\n",
    "\n",
    "<b>feira = \"banana\", \"pera\", \"batata\", \"uva\", \"cebola\", \"alho\", \"açucar\"\"</b>"
   ]
  },
  {
   "cell_type": "code",
   "execution_count": 25,
   "metadata": {},
   "outputs": [],
   "source": [
    "feira2 = \"batata\", \"cebola\",\"alho\" \n",
    "feira1 = \"banana\", \"pera\", \"uva\", \"açucar\""
   ]
  },
  {
   "cell_type": "code",
   "execution_count": 26,
   "metadata": {},
   "outputs": [],
   "source": [
    "feira1 = list(feira1)\n",
    "feira2 = list(feira2)"
   ]
  },
  {
   "cell_type": "code",
   "execution_count": 27,
   "metadata": {},
   "outputs": [
    {
     "data": {
      "text/plain": [
       "list"
      ]
     },
     "execution_count": 27,
     "metadata": {},
     "output_type": "execute_result"
    }
   ],
   "source": [
    "type(feira1)\n",
    "type(feira2)"
   ]
  },
  {
   "cell_type": "code",
   "execution_count": 28,
   "metadata": {},
   "outputs": [],
   "source": [
    "feira1.append('maça')"
   ]
  },
  {
   "cell_type": "code",
   "execution_count": 29,
   "metadata": {},
   "outputs": [],
   "source": [
    "feira2.append('cenoura')"
   ]
  },
  {
   "cell_type": "code",
   "execution_count": 30,
   "metadata": {},
   "outputs": [],
   "source": [
    "feira1.sort()\n",
    "feira2.sort()"
   ]
  },
  {
   "cell_type": "code",
   "execution_count": 39,
   "metadata": {},
   "outputs": [
    {
     "name": "stdout",
     "output_type": "stream",
     "text": [
      "Lista frutas ['açucar', 'banana', 'maça', 'pera', 'uva'] Lista legumes ['alho', 'batata', 'cebola', 'cenoura']\n"
     ]
    }
   ],
   "source": [
    "print(\"Lista frutas\", feira1, 'Lista legumes', feira2)"
   ]
  },
  {
   "cell_type": "code",
   "execution_count": null,
   "metadata": {},
   "outputs": [],
   "source": []
  },
  {
   "cell_type": "markdown",
   "metadata": {},
   "source": [
    "<b>Exercicio2.</b> Lista: (4,5,3,4,56,3,2,31,1,7,8,9,0,234,7,8,9). Orde a lista mostre os valores repitidos."
   ]
  },
  {
   "cell_type": "code",
   "execution_count": 18,
   "metadata": {},
   "outputs": [],
   "source": [
    "lista = [4,5,3,4,56,3,2,31,1,7,8,9,0,234,7,8,9]\n",
    "#utilizei o for pra procurar valores com o #set na lista que sao contados mais de uma vez.\n",
    "S_R = [item for item in set(lista) if lista.count(item) > 1]"
   ]
  },
  {
   "cell_type": "code",
   "execution_count": 19,
   "metadata": {},
   "outputs": [],
   "source": [
    "S_R.sort()"
   ]
  },
  {
   "cell_type": "code",
   "execution_count": 21,
   "metadata": {},
   "outputs": [
    {
     "data": {
      "text/plain": [
       "[3, 4, 7, 8, 9]"
      ]
     },
     "execution_count": 21,
     "metadata": {},
     "output_type": "execute_result"
    }
   ],
   "source": [
    "S_R"
   ]
  },
  {
   "cell_type": "code",
   "execution_count": 40,
   "metadata": {},
   "outputs": [],
   "source": [
    "lista = [4,5,3,4,56,3,2,31,1,7,8,9,0,234,7,8,9]\n",
    "S_R = []\n",
    "#utilizei o for para encontrar o i na lista e se nao encontrar preencher com os valores da lista, como o append preecnhe valores unicos ele nao duplicou os valores.\n",
    "for i in lista :\n",
    "    if i not in S_R:\n",
    "        S_R.append(i)"
   ]
  },
  {
   "cell_type": "code",
   "execution_count": 41,
   "metadata": {},
   "outputs": [],
   "source": [
    "S_R.sort()"
   ]
  },
  {
   "cell_type": "code",
   "execution_count": 42,
   "metadata": {},
   "outputs": [
    {
     "data": {
      "text/plain": [
       "[0, 1, 2, 3, 4, 5, 7, 8, 9, 31, 56, 234]"
      ]
     },
     "execution_count": 42,
     "metadata": {},
     "output_type": "execute_result"
    }
   ],
   "source": [
    "S_R"
   ]
  },
  {
   "cell_type": "code",
   "execution_count": null,
   "metadata": {},
   "outputs": [],
   "source": []
  },
  {
   "cell_type": "markdown",
   "metadata": {},
   "source": [
    "<b>2. Dicionários: </b> Chamado de dict, é uma coleção desordenada de zero ou mais pares de chave-valor, no qual as chaves são referencia de objetos que se referem a objetos hashable e os valores são refrencia de objetos referidos a objetos de qualquer tipo. Dicionários são mutáveis; portanto, podemos facilmente adicionar ou remover itens, mas já que eles são desordenados, não possuem noção da posição de índice e, logo, não podem ser fatiados ou receber passos."
   ]
  },
  {
   "cell_type": "code",
   "execution_count": 69,
   "metadata": {},
   "outputs": [],
   "source": [
    "# exemplo 2.1\n",
    "d2 = dict({\"id\": 1948, \"name\": \"Washer\", \"size\": 3})"
   ]
  },
  {
   "cell_type": "code",
   "execution_count": 70,
   "metadata": {},
   "outputs": [
    {
     "data": {
      "text/plain": [
       "{'id': 1948, 'name': 'Washer', 'size': 3}"
      ]
     },
     "execution_count": 70,
     "metadata": {},
     "output_type": "execute_result"
    }
   ],
   "source": [
    "d2"
   ]
  },
  {
   "cell_type": "code",
   "execution_count": 71,
   "metadata": {},
   "outputs": [],
   "source": [
    "dados = ['Thiago', 'Guaruja']"
   ]
  },
  {
   "cell_type": "code",
   "execution_count": 81,
   "metadata": {},
   "outputs": [],
   "source": [
    "d1 = dict({'342453': dados })"
   ]
  },
  {
   "cell_type": "code",
   "execution_count": 82,
   "metadata": {},
   "outputs": [
    {
     "data": {
      "text/plain": [
       "{'342453': ['Thiago', 'Guaruja']}"
      ]
     },
     "execution_count": 82,
     "metadata": {},
     "output_type": "execute_result"
    }
   ],
   "source": [
    "d1"
   ]
  },
  {
   "cell_type": "code",
   "execution_count": 80,
   "metadata": {},
   "outputs": [],
   "source": [
    "#exemplo 2.2 - copy() - cria uma copia do dict\n",
    "dc = d1.copy()"
   ]
  },
  {
   "cell_type": "code",
   "execution_count": 26,
   "metadata": {},
   "outputs": [
    {
     "data": {
      "text/plain": [
       "{'342453': ['Thiago', 'Guaruja']}"
      ]
     },
     "execution_count": 26,
     "metadata": {},
     "output_type": "execute_result"
    }
   ],
   "source": [
    "dc"
   ]
  },
  {
   "cell_type": "code",
   "execution_count": 27,
   "metadata": {},
   "outputs": [
    {
     "name": "stdout",
     "output_type": "stream",
     "text": [
      "None\n"
     ]
    }
   ],
   "source": [
    "#exemplo 2.3 - get(k) -  retorna uma chave do valor associado de k ou None, se k não estiver em dict\n",
    "print(dc.get('name'))"
   ]
  },
  {
   "cell_type": "code",
   "execution_count": 28,
   "metadata": {},
   "outputs": [
    {
     "data": {
      "text/plain": [
       "dict_items([('342453', ['Thiago', 'Guaruja'])])"
      ]
     },
     "execution_count": 28,
     "metadata": {},
     "output_type": "execute_result"
    }
   ],
   "source": [
    "#exemplo 2.4 - items() retorna uma visualização de todas as chaves em dict\n",
    "d1.items()"
   ]
  },
  {
   "cell_type": "code",
   "execution_count": 29,
   "metadata": {},
   "outputs": [
    {
     "name": "stdout",
     "output_type": "stream",
     "text": [
      "('342453', ['Thiago', 'Guaruja'])\n"
     ]
    }
   ],
   "source": [
    "for x in d1.items():\n",
    "    print(x)"
   ]
  },
  {
   "cell_type": "code",
   "execution_count": 30,
   "metadata": {},
   "outputs": [
    {
     "data": {
      "text/plain": [
       "dict_keys(['342453'])"
      ]
     },
     "execution_count": 30,
     "metadata": {},
     "output_type": "execute_result"
    }
   ],
   "source": [
    "#exemplo 2.5 - keys() retorna uma visualização de todas as chaves em dict\n",
    "d1.keys()"
   ]
  },
  {
   "cell_type": "code",
   "execution_count": 31,
   "metadata": {},
   "outputs": [
    {
     "data": {
      "text/plain": [
       "dict_values([['Thiago', 'Guaruja']])"
      ]
     },
     "execution_count": 31,
     "metadata": {},
     "output_type": "execute_result"
    }
   ],
   "source": [
    "#exemplo 2.6 - values() -  retorna uma visualização de todos os valores em dict\n",
    "d1.values()"
   ]
  },
  {
   "cell_type": "code",
   "execution_count": 32,
   "metadata": {},
   "outputs": [
    {
     "name": "stdout",
     "output_type": "stream",
     "text": [
      "['Thiago', 'Guaruja']\n"
     ]
    }
   ],
   "source": [
    "for a in d1.values():\n",
    "    print(a)"
   ]
  },
  {
   "cell_type": "code",
   "execution_count": 33,
   "metadata": {},
   "outputs": [
    {
     "name": "stdout",
     "output_type": "stream",
     "text": [
      "342453\n",
      "['Thiago', 'Guaruja']\n"
     ]
    }
   ],
   "source": [
    "for chave,valor in d1.items():\n",
    "    print(chave)\n",
    "    print(valor)"
   ]
  },
  {
   "cell_type": "markdown",
   "metadata": {},
   "source": [
    "Exercicio 2. vamos voltar a feira, crie um dicionario, com os seguintes itens: banana = 0.98, maçã = 7.00, pera = 5.00, cenoura = 3.5\n",
    "Apos montar o dicionario, quero que fa"
   ]
  },
  {
   "cell_type": "code",
   "execution_count": null,
   "metadata": {},
   "outputs": [],
   "source": [
    "cenoura = 3.5\n",
    "banana = 0.98\n",
    "maçã = 7.00\n",
    "pera = 5.00\n",
    "\n",
    "for i in "
   ]
  }
 ],
 "metadata": {
  "kernelspec": {
   "display_name": "Python 3",
   "language": "python",
   "name": "python3"
  },
  "language_info": {
   "codemirror_mode": {
    "name": "ipython",
    "version": 3
   },
   "file_extension": ".py",
   "mimetype": "text/x-python",
   "name": "python",
   "nbconvert_exporter": "python",
   "pygments_lexer": "ipython3",
   "version": "3.8.3"
  }
 },
 "nbformat": 4,
 "nbformat_minor": 4
}
