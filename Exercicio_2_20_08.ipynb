{
 "cells": [
  {
   "cell_type": "code",
   "execution_count": null,
   "metadata": {},
   "outputs": [],
   "source": []
  },
  {
   "cell_type": "code",
   "execution_count": 7,
   "metadata": {},
   "outputs": [
    {
     "name": "stdout",
     "output_type": "stream",
     "text": [
      "['Palmeiras campeao ', ' e america']\n",
      "Palmeiras nao tem Mundial\n"
     ]
    }
   ],
   "source": [
    "string= \"Palmeiras campeao mundial e america\"\n",
    "string2 = string.split(\"mundial\")\n",
    "print(string2)\n",
    "\n",
    "\n",
    "string = string.replace(\"Palmeiras campeao mundial e america\",\"Palmeiras nao tem Mundial\")\n",
    "print(string)"
   ]
  },
  {
   "cell_type": "code",
   "execution_count": 1,
   "metadata": {},
   "outputs": [
    {
     "name": "stdout",
     "output_type": "stream",
     "text": [
      "media 4.56\n"
     ]
    }
   ],
   "source": [
    "notas  = [9,6,7,3,8,8,\"oito\", \"A\", \"C\"]\n",
    "total = len(notas)\n",
    "notas.remove(\"A\")\n",
    "notas.remove(\"C\")\n",
    "notas.remove(\"oito\")\n",
    "soma = 0\n",
    "for n in notas:\n",
    "    soma = soma + n\n",
    "print('media', round(soma/total,2))"
   ]
  },
  {
   "cell_type": "code",
   "execution_count": null,
   "metadata": {},
   "outputs": [],
   "source": []
  },
  {
   "cell_type": "code",
   "execution_count": null,
   "metadata": {},
   "outputs": [],
   "source": []
  },
  {
   "cell_type": "code",
   "execution_count": null,
   "metadata": {},
   "outputs": [],
   "source": []
  }
 ],
 "metadata": {
  "kernelspec": {
   "display_name": "Python 3",
   "language": "python",
   "name": "python3"
  },
  "language_info": {
   "codemirror_mode": {
    "name": "ipython",
    "version": 3
   },
   "file_extension": ".py",
   "mimetype": "text/x-python",
   "name": "python",
   "nbconvert_exporter": "python",
   "pygments_lexer": "ipython3",
   "version": "3.8.3"
  }
 },
 "nbformat": 4,
 "nbformat_minor": 4
}
