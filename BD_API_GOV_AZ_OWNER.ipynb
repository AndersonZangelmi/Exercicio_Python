{
  "nbformat": 4,
  "nbformat_minor": 0,
  "metadata": {
    "colab": {
      "name": "Copy of BD_API_GOV.ipynb",
      "provenance": [],
      "authorship_tag": "ABX9TyOf1it8ZUYQTWFpHRyAZWTF",
      "include_colab_link": true
    },
    "kernelspec": {
      "name": "python3",
      "display_name": "Python 3"
    }
  },
  "cells": [
    {
      "cell_type": "markdown",
      "metadata": {
        "id": "view-in-github",
        "colab_type": "text"
      },
      "source": [
        "<a href=\"https://colab.research.google.com/github/AndersonZangelmi/Exercicio_Python/blob/master/BD_API_GOV_AZ_OWNER.ipynb\" target=\"_parent\"><img src=\"https://colab.research.google.com/assets/colab-badge.svg\" alt=\"Open In Colab\"/></a>"
      ]
    },
    {
      "cell_type": "code",
      "metadata": {
        "id": "BTYDk7KWBe2g"
      },
      "source": [
        "# Run below commands in google colab\n",
        "# install Java8\n",
        "!apt-get install openjdk-8-jdk-headless -qq > /dev/null\n",
        "# download spark3.0.0\n",
        "!wget -q http://apache.osuosl.org/spark/spark-3.0.1/spark-3.0.1-bin-hadoop3.2.tgz\n",
        "# unzip it\n",
        "!tar xf spark-3.0.1-bin-hadoop3.2.tgz\n",
        "# install findspark\n",
        "!pip install -q findspark"
      ],
      "execution_count": 1,
      "outputs": []
    },
    {
      "cell_type": "code",
      "metadata": {
        "id": "8IshbpN0CBke"
      },
      "source": [
        "import os\n",
        "os.environ[\"JAVA_HOME\"] = \"/usr/lib/jvm/java-8-openjdk-amd64\"\n",
        "os.environ[\"SPARK_HOME\"] = \"/content/spark-3.0.1-bin-hadoop3.2\""
      ],
      "execution_count": 3,
      "outputs": []
    },
    {
      "cell_type": "code",
      "metadata": {
        "id": "hI_8tu6BCSrN"
      },
      "source": [
        "import findspark\n",
        "findspark.init()\n",
        "from pyspark.sql import SparkSession\n",
        "spark = SparkSession.builder.master(\"local[*]\").getOrCreate()"
      ],
      "execution_count": 5,
      "outputs": []
    },
    {
      "cell_type": "code",
      "metadata": {
        "id": "i0uW89qICbNE",
        "outputId": "072a4705-39ee-4758-a068-26510cda3c9a",
        "colab": {
          "base_uri": "https://localhost:8080/",
          "height": 34
        }
      },
      "source": [
        "import pyspark\n",
        "print(pyspark.__version__)"
      ],
      "execution_count": 6,
      "outputs": [
        {
          "output_type": "stream",
          "text": [
            "3.0.1\n"
          ],
          "name": "stdout"
        }
      ]
    },
    {
      "cell_type": "code",
      "metadata": {
        "id": "jtAieXavCflC",
        "outputId": "8aa90887-8c3f-4368-e0ed-3986c9261a60",
        "colab": {
          "base_uri": "https://localhost:8080/",
          "height": 67
        }
      },
      "source": [
        "!curl -X GET --header 'Accept: application/json' --header 'chave-api-dados: a656fa09df76dfd3de97a34a006c19f3' 'http://www.portaltransparencia.gov.br/api-de-dados/acordos-leniencia?pagina=1' > consulta_portal_transparencia.json"
      ],
      "execution_count": 7,
      "outputs": [
        {
          "output_type": "stream",
          "text": [
            "  % Total    % Received % Xferd  Average Speed   Time    Time     Time  Current\n",
            "                                 Dload  Upload   Total   Spent    Left  Speed\n",
            "100  5253    0  5253    0     0   4178      0 --:--:--  0:00:01 --:--:--  4178\n"
          ],
          "name": "stdout"
        }
      ]
    },
    {
      "cell_type": "code",
      "metadata": {
        "id": "AXploW7ZCs-X"
      },
      "source": [
        "#Instancia o contexto do Spark\n",
        "sc = spark.sparkContext\n",
        "#Realiza a leitura da nossa consulta realizada na API do Governo Federal sobre as Viagens\n",
        "path = \"/content/consulta_portal_transparencia.json\"\n",
        "#Declara dataframe df com o conteudo da api que estava no JSON\n",
        "df = spark.read.json(path)"
      ],
      "execution_count": 8,
      "outputs": []
    },
    {
      "cell_type": "code",
      "metadata": {
        "id": "12cPt2MtC0yw",
        "outputId": "7d51f141-749c-463b-ab90-333c0ac325b6",
        "colab": {
          "base_uri": "https://localhost:8080/",
          "height": 574
        }
      },
      "source": [
        "#Imprime a estrutura de dados do nosso dataframe\n",
        "df.printSchema()\n",
        "#Imprime uma amosta de dados ( para especificar as linhas basta colocar a quantidade entre ())\n",
        "df.show()"
      ],
      "execution_count": 44,
      "outputs": [
        {
          "output_type": "stream",
          "text": [
            "root\n",
            " |-- cnpj: string (nullable = true)\n",
            " |-- dataFimAcordo: string (nullable = true)\n",
            " |-- dataInicioAcordo: string (nullable = true)\n",
            " |-- id: long (nullable = true)\n",
            " |-- nomeEmpresa: string (nullable = true)\n",
            " |-- nomeFantasia: string (nullable = true)\n",
            " |-- orgaoResponsavel: string (nullable = true)\n",
            " |-- quantidade: long (nullable = true)\n",
            " |-- razaoSocial: string (nullable = true)\n",
            " |-- situacaoAcordo: string (nullable = true)\n",
            " |-- ufEmpresa: string (nullable = true)\n",
            "\n",
            "+------------------+-------------+----------------+-------+--------------------+--------------------+--------------------+----------+--------------------+--------------+---------+\n",
            "|              cnpj|dataFimAcordo|dataInicioAcordo|     id|         nomeEmpresa|        nomeFantasia|    orgaoResponsavel|quantidade|         razaoSocial|situacaoAcordo|ufEmpresa|\n",
            "+------------------+-------------+----------------+-------+--------------------+--------------------+--------------------+----------+--------------------+--------------+---------+\n",
            "|14.811.848/0001-05|   31/12/2047|      14/11/2019|5300474|OAS S.A. - EM REC...|                    |Controladoria-Ger...|         1|OAS S.A. - EM REC...|   Em Execução|       SP|\n",
            "|42.150.391/0001-70|   30/01/2025|      31/05/2019|5300475|         BRASKEM S.A|             BRASKEM|Controladoria-Ger...|         1|         BRASKEM S.A|   Em Execução|       BA|\n",
            "|17.262.213/0001-94|   30/06/2031|      18/12/2018|5300476|ANDRADE GUTIERREZ...|CONSTRUTORA ANDRA...|Controladoria-Ger...|         1|ANDRADE GUTIERREZ...|   Em Execução|       MG|\n",
            "|61.522.512/0001-02|   31/01/2038|      31/07/2019|5300477|CONSTRUCOES E COM...|                    |Controladoria-Ger...|         1|CONSTRUCOES E COM...|   Em Execução|       SP|\n",
            "|44.023.661/0001-08|   10/07/2038|      10/07/2017|5300478|U T C ENGENHARIA ...|      UTC ENGENHARIA|Controladoria-Ger...|         1|U T C ENGENHARIA ...|   Em Execução|       SP|\n",
            "|61.067.377/0001-52|   13/04/2020|      13/04/2018|5300479|MULLEN LOWE BRASI...|  MULLEN LOWE BRASIL|Controladoria-Ger...|         1|MULLEN LOWE BRASI...|   Em Execução|       SP|\n",
            "|68.915.891/0001-40|   25/06/2021|      25/06/2019|5300480|TECHNIP BRASIL - ...|                    |Controladoria-Ger...|         1|TECHNIP BRASIL - ...|   Em Execução|       RJ|\n",
            "|05.144.757/0001-72|   31/10/2039|      09/07/2018|5300481|ODEBRECHT S.A. EM...|                    |Controladoria-Ger...|         1|ODEBRECHT S.A. EM...|   Em Execução|       BA|\n",
            "|            EXSBM |   29/06/2030|      26/07/2018|5300482|   SBM OFFSHORE N.V.|                    |Controladoria-Ger...|         1|                    |   Em Execução|       EX|\n",
            "|02.357.415/0001-42|   31/01/2046|      12/11/2019|5300483|NOVA PARTICIPACOE...|                    |Controladoria-Ger...|         1|NOVA PARTICIPACOE...|   Em Execução|       SP|\n",
            "|      EXBILFINGER |   31/12/2019|      14/08/2017|5300484|BILFINGER MASCHIN...|                    |Controladoria-Ger...|         1|                    |   Em Execução|       EX|\n",
            "|75.609.123/0001-23|   03/08/2020|      01/04/2019|5400044|OURO VERDE LOCACA...|                    |Controladoria-Ger...|         1|OURO VERDE LOCACA...|   Em Execução|       PR|\n",
            "|20.729.334/0001-08|   18/07/2021|      18/07/2020|5500044|ANDRI SOLUCOES CO...|      ANDRI SOLUCOES|Controladoria-Ger...|         1|ANDRI SOLUCOES CO...|   Em Execução|       RJ|\n",
            "|22.641.641/0001-68|   16/10/2019|      27/05/2019|5600044|AMBIENTAL ENGENHA...|                    |Controladoria-Ger...|         1|AMBIENTAL ENGENHA...|   Em Execução|       RJ|\n",
            "+------------------+-------------+----------------+-------+--------------------+--------------------+--------------------+----------+--------------------+--------------+---------+\n",
            "\n"
          ],
          "name": "stdout"
        }
      ]
    },
    {
      "cell_type": "code",
      "metadata": {
        "id": "csc69N37C74C",
        "outputId": "c1a6db03-26f8-4051-c7b3-ad1910a08ea3",
        "colab": {
          "base_uri": "https://localhost:8080/",
          "height": 336
        }
      },
      "source": [
        "tabela = df.selectExpr(\"cnpj\",\"dataFimAcordo\",\"situacaoAcordo\",\"nomeEmpresa\")\n",
        "tabela.show()"
      ],
      "execution_count": 152,
      "outputs": [
        {
          "output_type": "stream",
          "text": [
            "+------------------+-------------+--------------+--------------------+\n",
            "|              cnpj|dataFimAcordo|situacaoAcordo|         nomeEmpresa|\n",
            "+------------------+-------------+--------------+--------------------+\n",
            "|14.811.848/0001-05|   31/12/2047|   Em Execução|OAS S.A. - EM REC...|\n",
            "|42.150.391/0001-70|   30/01/2025|   Em Execução|         BRASKEM S.A|\n",
            "|17.262.213/0001-94|   30/06/2031|   Em Execução|ANDRADE GUTIERREZ...|\n",
            "|61.522.512/0001-02|   31/01/2038|   Em Execução|CONSTRUCOES E COM...|\n",
            "|44.023.661/0001-08|   10/07/2038|   Em Execução|U T C ENGENHARIA ...|\n",
            "|61.067.377/0001-52|   13/04/2020|   Em Execução|MULLEN LOWE BRASI...|\n",
            "|68.915.891/0001-40|   25/06/2021|   Em Execução|TECHNIP BRASIL - ...|\n",
            "|05.144.757/0001-72|   31/10/2039|   Em Execução|ODEBRECHT S.A. EM...|\n",
            "|            EXSBM |   29/06/2030|   Em Execução|   SBM OFFSHORE N.V.|\n",
            "|02.357.415/0001-42|   31/01/2046|   Em Execução|NOVA PARTICIPACOE...|\n",
            "|      EXBILFINGER |   31/12/2019|   Em Execução|BILFINGER MASCHIN...|\n",
            "|75.609.123/0001-23|   03/08/2020|   Em Execução|OURO VERDE LOCACA...|\n",
            "|20.729.334/0001-08|   18/07/2021|   Em Execução|ANDRI SOLUCOES CO...|\n",
            "|22.641.641/0001-68|   16/10/2019|   Em Execução|AMBIENTAL ENGENHA...|\n",
            "+------------------+-------------+--------------+--------------------+\n",
            "\n"
          ],
          "name": "stdout"
        }
      ]
    },
    {
      "cell_type": "code",
      "metadata": {
        "id": "p6hgngHADLWv"
      },
      "source": [
        "#Declara tabela temporaria no SparkSQL\n",
        "tabela.createOrReplaceTempView(\"tabela\")"
      ],
      "execution_count": 157,
      "outputs": []
    },
    {
      "cell_type": "code",
      "metadata": {
        "id": "J4sVTbViDURV",
        "outputId": "63915928-80db-4c3e-b539-855d868301e2",
        "colab": {
          "base_uri": "https://localhost:8080/",
          "height": 336
        }
      },
      "source": [
        "import datetime as date\n",
        "Fim_acordo = spark.sql(\"select cnpj , dataFimAcordo,  nomeEmpresa as Empresa from tabela order by nomeEmpresa asc\")\n",
        "Fim_acordo.show()"
      ],
      "execution_count": 190,
      "outputs": [
        {
          "output_type": "stream",
          "text": [
            "+------------------+-------------+--------------------+\n",
            "|              cnpj|dataFimAcordo|             Empresa|\n",
            "+------------------+-------------+--------------------+\n",
            "|22.641.641/0001-68|   16/10/2019|AMBIENTAL ENGENHA...|\n",
            "|17.262.213/0001-94|   30/06/2031|ANDRADE GUTIERREZ...|\n",
            "|20.729.334/0001-08|   18/07/2021|ANDRI SOLUCOES CO...|\n",
            "|      EXBILFINGER |   31/12/2019|BILFINGER MASCHIN...|\n",
            "|42.150.391/0001-70|   30/01/2025|         BRASKEM S.A|\n",
            "|61.522.512/0001-02|   31/01/2038|CONSTRUCOES E COM...|\n",
            "|61.067.377/0001-52|   13/04/2020|MULLEN LOWE BRASI...|\n",
            "|02.357.415/0001-42|   31/01/2046|NOVA PARTICIPACOE...|\n",
            "|14.811.848/0001-05|   31/12/2047|OAS S.A. - EM REC...|\n",
            "|05.144.757/0001-72|   31/10/2039|ODEBRECHT S.A. EM...|\n",
            "|75.609.123/0001-23|   03/08/2020|OURO VERDE LOCACA...|\n",
            "|            EXSBM |   29/06/2030|   SBM OFFSHORE N.V.|\n",
            "|68.915.891/0001-40|   25/06/2021|TECHNIP BRASIL - ...|\n",
            "|44.023.661/0001-08|   10/07/2038|U T C ENGENHARIA ...|\n",
            "+------------------+-------------+--------------------+\n",
            "\n"
          ],
          "name": "stdout"
        }
      ]
    }
  ]
}