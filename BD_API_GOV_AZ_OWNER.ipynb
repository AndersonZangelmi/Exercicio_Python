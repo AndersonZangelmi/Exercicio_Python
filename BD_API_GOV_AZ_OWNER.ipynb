{
  "nbformat": 4,
  "nbformat_minor": 0,
  "metadata": {
    "colab": {
      "name": "Copy of BD_API_GOV.ipynb",
      "provenance": [],
      "authorship_tag": "ABX9TyNFwBQ33Yoo5XEEe2UsKpfY",
      "include_colab_link": true
    },
    "kernelspec": {
      "name": "python3",
      "display_name": "Python 3"
    }
  },
  "cells": [
    {
      "cell_type": "markdown",
      "metadata": {
        "id": "view-in-github",
        "colab_type": "text"
      },
      "source": [
        "<a href=\"https://colab.research.google.com/github/AndersonZangelmi/Exercicio_Python/blob/master/BD_API_GOV_AZ_OWNER.ipynb\" target=\"_parent\"><img src=\"https://colab.research.google.com/assets/colab-badge.svg\" alt=\"Open In Colab\"/></a>"
      ]
    },
    {
      "cell_type": "code",
      "metadata": {
        "id": "BTYDk7KWBe2g"
      },
      "source": [
        "# Run below commands in google colab\n",
        "# install Java8\n",
        "!apt-get install openjdk-8-jdk-headless -qq > /dev/null\n",
        "# download spark3.0.0\n",
        "!wget -q http://apache.osuosl.org/spark/spark-3.0.1/spark-3.0.1-bin-hadoop3.2.tgz\n",
        "# unzip it\n",
        "!tar xf spark-3.0.1-bin-hadoop3.2.tgz\n",
        "# install findspark\n",
        "!pip install -q findspark"
      ],
      "execution_count": 4,
      "outputs": []
    },
    {
      "cell_type": "code",
      "metadata": {
        "id": "8IshbpN0CBke"
      },
      "source": [
        "import os\n",
        "os.environ[\"JAVA_HOME\"] = \"/usr/lib/jvm/java-8-openjdk-amd64\"\n",
        "os.environ[\"SPARK_HOME\"] = \"/content/spark-3.0.1-bin-hadoop3.2\""
      ],
      "execution_count": 5,
      "outputs": []
    },
    {
      "cell_type": "code",
      "metadata": {
        "id": "hI_8tu6BCSrN"
      },
      "source": [
        "import findspark\n",
        "findspark.init()\n",
        "from pyspark.sql import SparkSession\n",
        "spark = SparkSession.builder.master(\"local[*]\").getOrCreate()"
      ],
      "execution_count": 6,
      "outputs": []
    },
    {
      "cell_type": "code",
      "metadata": {
        "id": "i0uW89qICbNE",
        "outputId": "5d6838b6-c8d3-4663-991c-2a299f94f5da",
        "colab": {
          "base_uri": "https://localhost:8080/",
          "height": 34
        }
      },
      "source": [
        "import pyspark\n",
        "print(pyspark.__version__)"
      ],
      "execution_count": 7,
      "outputs": [
        {
          "output_type": "stream",
          "text": [
            "3.0.1\n"
          ],
          "name": "stdout"
        }
      ]
    },
    {
      "cell_type": "code",
      "metadata": {
        "id": "jtAieXavCflC",
        "outputId": "e577eb8c-89bd-4793-d137-7ede0f4fca37",
        "colab": {
          "base_uri": "https://localhost:8080/",
          "height": 67
        }
      },
      "source": [
        "!curl -X GET --header 'Accept: application/json' --header 'chave-api-dados: a656fa09df76dfd3de97a34a006c19f3' 'http://www.portaltransparencia.gov.br/api-de-dados/despesas/plano-orcamentario?ano=2019&pagina=1' > consulta_portal_transparencia.json"
      ],
      "execution_count": 8,
      "outputs": [
        {
          "output_type": "stream",
          "text": [
            "  % Total    % Received % Xferd  Average Speed   Time    Time     Time  Current\n",
            "                                 Dload  Upload   Total   Spent    Left  Speed\n",
            "100  5033    0  5033    0     0   8632      0 --:--:-- --:--:-- --:--:--  8632\n"
          ],
          "name": "stdout"
        }
      ]
    },
    {
      "cell_type": "code",
      "metadata": {
        "id": "AXploW7ZCs-X"
      },
      "source": [
        "#Instancia o contexto do Spark\n",
        "sc = spark.sparkContext\n",
        "#Realiza a leitura da nossa consulta realizada na API do Governo Federal sobre as Viagens\n",
        "path = \"/content/consulta_portal_transparencia.json\"\n",
        "#Declara dataframe df com o conteudo da api que estava no JSON\n",
        "df = spark.read.json(path)"
      ],
      "execution_count": 9,
      "outputs": []
    },
    {
      "cell_type": "code",
      "metadata": {
        "id": "12cPt2MtC0yw",
        "outputId": "2bb9c2fb-f006-4588-c6b0-b24c8853bdc4",
        "colab": {
          "base_uri": "https://localhost:8080/",
          "height": 823
        }
      },
      "source": [
        "#Imprime a estrutura de dados do nosso dataframe\n",
        "df.printSchema()\n",
        "#Imprime uma amosta de dados ( para especificar as linhas basta colocar a quantidade entre ())\n",
        "df.show()"
      ],
      "execution_count": 10,
      "outputs": [
        {
          "output_type": "stream",
          "text": [
            "root\n",
            " |-- codPOIdAcompanhamento: string (nullable = true)\n",
            " |-- codUnidadeOrcamentaria: string (nullable = true)\n",
            " |-- codigo: string (nullable = true)\n",
            " |-- codigoAcao: string (nullable = true)\n",
            " |-- codigoFuncao: string (nullable = true)\n",
            " |-- codigoPrograma: string (nullable = true)\n",
            " |-- codigoSubFuncao: string (nullable = true)\n",
            " |-- descPOIdAcompanhamento: string (nullable = true)\n",
            " |-- descricao: string (nullable = true)\n",
            " |-- id: long (nullable = true)\n",
            " |-- numAno: long (nullable = true)\n",
            "\n",
            "+---------------------+----------------------+------+----------+------------+--------------+---------------+----------------------+--------------------+------+------+\n",
            "|codPOIdAcompanhamento|codUnidadeOrcamentaria|codigo|codigoAcao|codigoFuncao|codigoPrograma|codigoSubFuncao|descPOIdAcompanhamento|           descricao|    id|numAno|\n",
            "+---------------------+----------------------+------+----------+------------+--------------+---------------+----------------------+--------------------+------+------+\n",
            "|                   OS|                    00|  \n",
            "555|         0|          00|              |             00|        Sem informação|5555555520191125A...|907305|  2019|\n",
            "|                     |                    01|  \n",
            "555|         0|          36|              |             2V|        Sem informação|5555555520151222A...|901846|  2019|\n",
            "|                     |                    01|  \n",
            "555|         0|          35|              |             2S|        Sem informação|5555555520150102A...|909189|  2019|\n",
            "|                     |                    01|  \n",
            "555|         0|          23|              |             1B|        Sem informação|5555555520151222A...|907825|  2019|\n",
            "|                     |                    01|  \n",
            "555|         0|          14|              |             35|        Sem informação|5555555520130612A...|904492|  2019|\n",
            "|                     |                    01|  \n",
            "555|         0|          25|              |             1U|        Sem informação|5555555520161207A...|907098|  2019|\n",
            "|                     |                    00|  \n",
            "777|         0|          00|              |             00|        Sem informação|7777777720130114I...|911196|  2019|\n",
            "|                    N|                 NALTO|      |          |           (|             )|            CMP|        Sem informação|000000        0\n",
            "5...|905865|  2019|\n",
            "|                   AT|                 UNIAO|      |          |            |              |               |        Sem informação|000000        0\n",
            "5...|905377|  2019|\n",
            "|                   A2|                 DIFES|      |          |            |              |               |        Sem informação|000000        0\n",
            "5...|901895|  2019|\n",
            "|                     |                      |      |        2V|            |          0136|               |        Sem informação|0\n",
            "555555555552015...|909447|  2019|\n",
            "|                   RE|                     O|      |          |            |              |               |        Sem informação|020V2w        0\n",
            "5...|902536|  2019|\n",
            "|                   IO|                  SA -|      |          |          OI|              |            SCC|        Sem informação|000000        0\n",
            "5...|908158|  2019|\n",
            "|                     |                   /RS|      |          |            |              |               |        Sem informação|000000        0\n",
            "5...|906435|  2019|\n",
            "|                     |                  RADO|      |          |            |              |               |        Sem informação|000000        0\n",
            "7...|906378|  2019|\n",
            "+---------------------+----------------------+------+----------+------------+--------------+---------------+----------------------+--------------------+------+------+\n",
            "\n"
          ],
          "name": "stdout"
        }
      ]
    },
    {
      "cell_type": "code",
      "metadata": {
        "id": "csc69N37C74C",
        "outputId": "233f6920-0323-47a7-dee3-9311f9903ec3",
        "colab": {
          "base_uri": "https://localhost:8080/",
          "height": 374
        }
      },
      "source": [
        "dfPrepared = df.selectExpr(\"dataTransacao\",\"estabelecimento.razaoSocialReceita\",\"estabelecimento.nome\",\"estabelecimento.municipio.uf.sigla\",\"portador.nome as nome_do_portador\",\"tipoCartao.descricao\",\"valorTransacao\")\n",
        "dfPrepared.show()"
      ],
      "execution_count": 11,
      "outputs": [
        {
          "output_type": "error",
          "ename": "AnalysisException",
          "evalue": "ignored",
          "traceback": [
            "\u001b[0;31m---------------------------------------------------------------------------\u001b[0m",
            "\u001b[0;31mAnalysisException\u001b[0m                         Traceback (most recent call last)",
            "\u001b[0;32m<ipython-input-11-57de743fe01a>\u001b[0m in \u001b[0;36m<module>\u001b[0;34m()\u001b[0m\n\u001b[0;32m----> 1\u001b[0;31m \u001b[0mdfPrepared\u001b[0m \u001b[0;34m=\u001b[0m \u001b[0mdf\u001b[0m\u001b[0;34m.\u001b[0m\u001b[0mselectExpr\u001b[0m\u001b[0;34m(\u001b[0m\u001b[0;34m\"dataTransacao\"\u001b[0m\u001b[0;34m,\u001b[0m\u001b[0;34m\"estabelecimento.razaoSocialReceita\"\u001b[0m\u001b[0;34m,\u001b[0m\u001b[0;34m\"estabelecimento.nome\"\u001b[0m\u001b[0;34m,\u001b[0m\u001b[0;34m\"estabelecimento.municipio.uf.sigla\"\u001b[0m\u001b[0;34m,\u001b[0m\u001b[0;34m\"portador.nome as nome_do_portador\"\u001b[0m\u001b[0;34m,\u001b[0m\u001b[0;34m\"tipoCartao.descricao\"\u001b[0m\u001b[0;34m,\u001b[0m\u001b[0;34m\"valorTransacao\"\u001b[0m\u001b[0;34m)\u001b[0m\u001b[0;34m\u001b[0m\u001b[0;34m\u001b[0m\u001b[0m\n\u001b[0m\u001b[1;32m      2\u001b[0m \u001b[0mdfPrepared\u001b[0m\u001b[0;34m.\u001b[0m\u001b[0mshow\u001b[0m\u001b[0;34m(\u001b[0m\u001b[0;34m)\u001b[0m\u001b[0;34m\u001b[0m\u001b[0;34m\u001b[0m\u001b[0m\n",
            "\u001b[0;32m/content/spark-3.0.1-bin-hadoop3.2/python/pyspark/sql/dataframe.py\u001b[0m in \u001b[0;36mselectExpr\u001b[0;34m(self, *expr)\u001b[0m\n\u001b[1;32m   1433\u001b[0m         \u001b[0;32mif\u001b[0m \u001b[0mlen\u001b[0m\u001b[0;34m(\u001b[0m\u001b[0mexpr\u001b[0m\u001b[0;34m)\u001b[0m \u001b[0;34m==\u001b[0m \u001b[0;36m1\u001b[0m \u001b[0;32mand\u001b[0m \u001b[0misinstance\u001b[0m\u001b[0;34m(\u001b[0m\u001b[0mexpr\u001b[0m\u001b[0;34m[\u001b[0m\u001b[0;36m0\u001b[0m\u001b[0;34m]\u001b[0m\u001b[0;34m,\u001b[0m \u001b[0mlist\u001b[0m\u001b[0;34m)\u001b[0m\u001b[0;34m:\u001b[0m\u001b[0;34m\u001b[0m\u001b[0;34m\u001b[0m\u001b[0m\n\u001b[1;32m   1434\u001b[0m             \u001b[0mexpr\u001b[0m \u001b[0;34m=\u001b[0m \u001b[0mexpr\u001b[0m\u001b[0;34m[\u001b[0m\u001b[0;36m0\u001b[0m\u001b[0;34m]\u001b[0m\u001b[0;34m\u001b[0m\u001b[0;34m\u001b[0m\u001b[0m\n\u001b[0;32m-> 1435\u001b[0;31m         \u001b[0mjdf\u001b[0m \u001b[0;34m=\u001b[0m \u001b[0mself\u001b[0m\u001b[0;34m.\u001b[0m\u001b[0m_jdf\u001b[0m\u001b[0;34m.\u001b[0m\u001b[0mselectExpr\u001b[0m\u001b[0;34m(\u001b[0m\u001b[0mself\u001b[0m\u001b[0;34m.\u001b[0m\u001b[0m_jseq\u001b[0m\u001b[0;34m(\u001b[0m\u001b[0mexpr\u001b[0m\u001b[0;34m)\u001b[0m\u001b[0;34m)\u001b[0m\u001b[0;34m\u001b[0m\u001b[0;34m\u001b[0m\u001b[0m\n\u001b[0m\u001b[1;32m   1436\u001b[0m         \u001b[0;32mreturn\u001b[0m \u001b[0mDataFrame\u001b[0m\u001b[0;34m(\u001b[0m\u001b[0mjdf\u001b[0m\u001b[0;34m,\u001b[0m \u001b[0mself\u001b[0m\u001b[0;34m.\u001b[0m\u001b[0msql_ctx\u001b[0m\u001b[0;34m)\u001b[0m\u001b[0;34m\u001b[0m\u001b[0;34m\u001b[0m\u001b[0m\n\u001b[1;32m   1437\u001b[0m \u001b[0;34m\u001b[0m\u001b[0m\n",
            "\u001b[0;32m/content/spark-3.0.1-bin-hadoop3.2/python/lib/py4j-0.10.9-src.zip/py4j/java_gateway.py\u001b[0m in \u001b[0;36m__call__\u001b[0;34m(self, *args)\u001b[0m\n\u001b[1;32m   1303\u001b[0m         \u001b[0manswer\u001b[0m \u001b[0;34m=\u001b[0m \u001b[0mself\u001b[0m\u001b[0;34m.\u001b[0m\u001b[0mgateway_client\u001b[0m\u001b[0;34m.\u001b[0m\u001b[0msend_command\u001b[0m\u001b[0;34m(\u001b[0m\u001b[0mcommand\u001b[0m\u001b[0;34m)\u001b[0m\u001b[0;34m\u001b[0m\u001b[0;34m\u001b[0m\u001b[0m\n\u001b[1;32m   1304\u001b[0m         return_value = get_return_value(\n\u001b[0;32m-> 1305\u001b[0;31m             answer, self.gateway_client, self.target_id, self.name)\n\u001b[0m\u001b[1;32m   1306\u001b[0m \u001b[0;34m\u001b[0m\u001b[0m\n\u001b[1;32m   1307\u001b[0m         \u001b[0;32mfor\u001b[0m \u001b[0mtemp_arg\u001b[0m \u001b[0;32min\u001b[0m \u001b[0mtemp_args\u001b[0m\u001b[0;34m:\u001b[0m\u001b[0;34m\u001b[0m\u001b[0;34m\u001b[0m\u001b[0m\n",
            "\u001b[0;32m/content/spark-3.0.1-bin-hadoop3.2/python/pyspark/sql/utils.py\u001b[0m in \u001b[0;36mdeco\u001b[0;34m(*a, **kw)\u001b[0m\n\u001b[1;32m    132\u001b[0m                 \u001b[0;31m# Hide where the exception came from that shows a non-Pythonic\u001b[0m\u001b[0;34m\u001b[0m\u001b[0;34m\u001b[0m\u001b[0;34m\u001b[0m\u001b[0m\n\u001b[1;32m    133\u001b[0m                 \u001b[0;31m# JVM exception message.\u001b[0m\u001b[0;34m\u001b[0m\u001b[0;34m\u001b[0m\u001b[0;34m\u001b[0m\u001b[0m\n\u001b[0;32m--> 134\u001b[0;31m                 \u001b[0mraise_from\u001b[0m\u001b[0;34m(\u001b[0m\u001b[0mconverted\u001b[0m\u001b[0;34m)\u001b[0m\u001b[0;34m\u001b[0m\u001b[0;34m\u001b[0m\u001b[0m\n\u001b[0m\u001b[1;32m    135\u001b[0m             \u001b[0;32melse\u001b[0m\u001b[0;34m:\u001b[0m\u001b[0;34m\u001b[0m\u001b[0;34m\u001b[0m\u001b[0m\n\u001b[1;32m    136\u001b[0m                 \u001b[0;32mraise\u001b[0m\u001b[0;34m\u001b[0m\u001b[0;34m\u001b[0m\u001b[0m\n",
            "\u001b[0;32m/content/spark-3.0.1-bin-hadoop3.2/python/pyspark/sql/utils.py\u001b[0m in \u001b[0;36mraise_from\u001b[0;34m(e)\u001b[0m\n",
            "\u001b[0;31mAnalysisException\u001b[0m: cannot resolve '`dataTransacao`' given input columns: [codPOIdAcompanhamento, codUnidadeOrcamentaria, codigo, codigoAcao, codigoFuncao, codigoPrograma, codigoSubFuncao, descPOIdAcompanhamento, descricao, id, numAno]; line 1 pos 0;\n'Project ['dataTransacao, 'estabelecimento.razaoSocialReceita, 'estabelecimento.nome, 'estabelecimento.municipio.uf.sigla, 'portador.nome AS nome_do_portador#85, 'tipoCartao.descricao, 'valorTransacao]\n+- Relation[codPOIdAcompanhamento#7,codUnidadeOrcamentaria#8,codigo#9,codigoAcao#10,codigoFuncao#11,codigoPrograma#12,codigoSubFuncao#13,descPOIdAcompanhamento#14,descricao#15,id#16L,numAno#17L] json\n"
          ]
        }
      ]
    },
    {
      "cell_type": "code",
      "metadata": {
        "id": "p6hgngHADLWv"
      },
      "source": [
        "#Declara tabela temporaria no SparkSQL\n",
        "dfPrepared.createOrReplaceTempView(\"dfPrepared\")"
      ],
      "execution_count": null,
      "outputs": []
    },
    {
      "cell_type": "code",
      "metadata": {
        "id": "J4sVTbViDURV",
        "outputId": "8ef83ba3-3f4b-4060-a2e4-c82672a6a3ff",
        "colab": {
          "base_uri": "https://localhost:8080/",
          "height": 319
        }
      },
      "source": [
        "topTravels = spark.sql(\"select count(*),nome_do_portador as politico from dfPrepared group by 2 order by 1 desc\")\n",
        "topTravels.show()"
      ],
      "execution_count": null,
      "outputs": [
        {
          "output_type": "stream",
          "text": [
            "+--------+--------------------+\n",
            "|count(1)|            politico|\n",
            "+--------+--------------------+\n",
            "|       3|LYGIA MARIA MARIN...|\n",
            "|       1|FLAVIO CARLOS DE ...|\n",
            "|       1|    MARIA NECY ALVES|\n",
            "|       1|NEWTON DE AZEVEDO...|\n",
            "|       1|OSNY PEREIRA DA S...|\n",
            "|       1|  RICARDO ANUNCIACAO|\n",
            "|       1|JOAO REGINALDO DA...|\n",
            "|       1|BRUNO MORAES DA S...|\n",
            "|       1|  GIANO CUTRIM SILVA|\n",
            "|       1|MATHEUS LINO FERR...|\n",
            "|       1|MANOEL OLIMPIO NO...|\n",
            "|       1|   ADILIO ALVES LEAL|\n",
            "|       1|   JEAN ELAINE SILVA|\n",
            "+--------+--------------------+\n",
            "\n"
          ],
          "name": "stdout"
        }
      ]
    }
  ]
}