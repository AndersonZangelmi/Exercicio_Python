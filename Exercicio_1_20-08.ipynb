{
 "cells": [
  {
   "cell_type": "code",
   "execution_count": 1,
   "metadata": {},
   "outputs": [
    {
     "name": "stdout",
     "output_type": "stream",
     "text": [
      "60\n"
     ]
    }
   ],
   "source": [
    "def soma(x,y):\n",
    "\treturn x+y\n",
    "def multiplicacao(x, y):\n",
    "\treturn x*y\n",
    "s = soma(2,3)\n",
    "m = multiplicacao(3,4)\n",
    "print(multiplicacao(s,m))\n"
   ]
  },
  {
   "cell_type": "code",
   "execution_count": 17,
   "metadata": {},
   "outputs": [
    {
     "name": "stdout",
     "output_type": "stream",
     "text": [
      "se fudeu\n"
     ]
    }
   ],
   "source": [
    "nota1 = 6\n",
    "nota2 = 7\n",
    "\n",
    "media = ((nota1 + nota2)/2)\n",
    "\n",
    "if media >= 7 :\n",
    "    print(\"aprovado\")\n",
    "else:\n",
    "\tprint(\"se fudeu\")\t\n",
    "\n"
   ]
  },
  {
   "cell_type": "code",
   "execution_count": 18,
   "metadata": {},
   "outputs": [
    {
     "name": "stdout",
     "output_type": "stream",
     "text": [
      "delta negativo\n"
     ]
    }
   ],
   "source": [
    "a = 10\n",
    "b = 20\n",
    "c = 30\n",
    "\n",
    "delta = b**2 - 4*a*c\n",
    "raiz_delta =  delta\n",
    "\n",
    "if raiz_delta < 0:\n",
    "\tprint(\"delta negativo\")\n"
   ]
  },
  {
   "cell_type": "code",
   "execution_count": null,
   "metadata": {},
   "outputs": [],
   "source": []
  }
 ],
 "metadata": {
  "kernelspec": {
   "display_name": "Python 3",
   "language": "python",
   "name": "python3"
  },
  "language_info": {
   "codemirror_mode": {
    "name": "ipython",
    "version": 3
   },
   "file_extension": ".py",
   "mimetype": "text/x-python",
   "name": "python",
   "nbconvert_exporter": "python",
   "pygments_lexer": "ipython3",
   "version": "3.8.3"
  }
 },
 "nbformat": 4,
 "nbformat_minor": 4
}
